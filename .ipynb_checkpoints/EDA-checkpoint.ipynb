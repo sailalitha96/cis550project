{
 "cells": [
  {
   "cell_type": "code",
   "execution_count": 1,
   "metadata": {},
   "outputs": [],
   "source": [
    "import numpy as np\n",
    "import pandas as pd\n",
    "import sqlite3\n",
    "import matplotlib.pyplot as plt\n",
    "import seaborn as sns"
   ]
  },
  {
   "cell_type": "code",
   "execution_count": 2,
   "metadata": {},
   "outputs": [],
   "source": [
    "# You may change the path per the location of file on your system\n",
    "database = (\"C:/Users/gauri/Downloads/database.sqlite\")\n",
    "conn = sqlite3.connect(database)"
   ]
  },
  {
   "cell_type": "code",
   "execution_count": null,
   "metadata": {},
   "outputs": [],
   "source": [
    "tables = pd.read_sql(\"\"\"SELECT *\n",
    "                        FROM sqlite_master\n",
    "                        WHERE type='table';\"\"\", conn)\n",
    "tables"
   ]
  },
  {
   "cell_type": "code",
   "execution_count": null,
   "metadata": {},
   "outputs": [],
   "source": [
    "res = pd.read_sql(\"\"\"SELECT COUNT(DISTINCT(PlanId)) AS Plans, Statecode\n",
    "                    FROM PlanAttributes\n",
    "                    WHERE BusinessYear = 2016\n",
    "                    GROUP BY Statecode; \"\"\",conn)\n",
    "\n",
    "plt.figure(figsize=(20,10))\n",
    "plt.bar(res['StateCode'],res['Plans'])"
   ]
  },
  {
   "cell_type": "code",
   "execution_count": 36,
   "metadata": {},
   "outputs": [
    {
     "data": {
      "text/plain": [
       "<BarContainer object of 38 artists>"
      ]
     },
     "execution_count": 36,
     "metadata": {},
     "output_type": "execute_result"
    },
    {
     "data": {
      "image/png": "[encoded data removed]",
      "text/plain": [
       "<Figure size 1440x720 with 1 Axes>"
      ]
     },
     "metadata": {
      "needs_background": "light"
     },
     "output_type": "display_data"
    }
   ],
   "source": [
    "res = pd.read_sql(\"\"\"select statecode, avg(individualrate) as rate_ave\n",
    "                        from rate \n",
    "                        where businessyear = 2016\n",
    "                        group by statecode\n",
    "                        order by rate_ave desc;\"\"\", conn)\n",
    "\n",
    "plt.figure(figsize=(20,10))\n",
    "plt.bar(res['StateCode'],res['rate_ave'],color=\"orange\")"
   ]
  },
  {
   "cell_type": "code",
   "execution_count": 37,
   "metadata": {},
   "outputs": [
    {
     "data": {
      "text/html": [
       "<div>\n",
       "<style scoped>\n",
       "    .dataframe tbody tr th:only-of-type {\n",
       "        vertical-align: middle;\n",
       "    }\n",
       "\n",
       "    .dataframe tbody tr th {\n",
       "        vertical-align: top;\n",
       "    }\n",
       "\n",
       "    .dataframe thead th {\n",
       "        text-align: right;\n",
       "    }\n",
       "</style>\n",
       "<table border=\"1\" class=\"dataframe\">\n",
       "  <thead>\n",
       "    <tr style=\"text-align: right;\">\n",
       "      <th></th>\n",
       "      <th>plans</th>\n",
       "      <th>BenefitName</th>\n",
       "    </tr>\n",
       "  </thead>\n",
       "  <tbody>\n",
       "    <tr>\n",
       "      <th>0</th>\n",
       "      <td>27381</td>\n",
       "      <td>Accidental Dental</td>\n",
       "    </tr>\n",
       "    <tr>\n",
       "      <th>1</th>\n",
       "      <td>27381</td>\n",
       "      <td>Basic Dental Care - Adult</td>\n",
       "    </tr>\n",
       "    <tr>\n",
       "      <th>2</th>\n",
       "      <td>27381</td>\n",
       "      <td>Basic Dental Care - Child</td>\n",
       "    </tr>\n",
       "    <tr>\n",
       "      <th>3</th>\n",
       "      <td>27381</td>\n",
       "      <td>Dental Check-Up for Children</td>\n",
       "    </tr>\n",
       "    <tr>\n",
       "      <th>4</th>\n",
       "      <td>27381</td>\n",
       "      <td>Major Dental Care - Adult</td>\n",
       "    </tr>\n",
       "    <tr>\n",
       "      <th>5</th>\n",
       "      <td>27381</td>\n",
       "      <td>Major Dental Care - Child</td>\n",
       "    </tr>\n",
       "    <tr>\n",
       "      <th>6</th>\n",
       "      <td>27381</td>\n",
       "      <td>Orthodontia - Adult</td>\n",
       "    </tr>\n",
       "    <tr>\n",
       "      <th>7</th>\n",
       "      <td>27381</td>\n",
       "      <td>Orthodontia - Child</td>\n",
       "    </tr>\n",
       "    <tr>\n",
       "      <th>8</th>\n",
       "      <td>27381</td>\n",
       "      <td>Routine Dental Services (Adult)</td>\n",
       "    </tr>\n",
       "    <tr>\n",
       "      <th>9</th>\n",
       "      <td>23544</td>\n",
       "      <td>Treatment for Temporomandibular Joint Disorders</td>\n",
       "    </tr>\n",
       "    <tr>\n",
       "      <th>10</th>\n",
       "      <td>23526</td>\n",
       "      <td>Abortion for Which Public Funding is Prohibited</td>\n",
       "    </tr>\n",
       "    <tr>\n",
       "      <th>11</th>\n",
       "      <td>23526</td>\n",
       "      <td>Acupuncture</td>\n",
       "    </tr>\n",
       "    <tr>\n",
       "      <th>12</th>\n",
       "      <td>23526</td>\n",
       "      <td>Allergy Testing</td>\n",
       "    </tr>\n",
       "    <tr>\n",
       "      <th>13</th>\n",
       "      <td>23526</td>\n",
       "      <td>Bariatric Surgery</td>\n",
       "    </tr>\n",
       "    <tr>\n",
       "      <th>14</th>\n",
       "      <td>23526</td>\n",
       "      <td>Chemotherapy</td>\n",
       "    </tr>\n",
       "    <tr>\n",
       "      <th>15</th>\n",
       "      <td>23526</td>\n",
       "      <td>Chiropractic Care</td>\n",
       "    </tr>\n",
       "    <tr>\n",
       "      <th>16</th>\n",
       "      <td>23526</td>\n",
       "      <td>Cosmetic Surgery</td>\n",
       "    </tr>\n",
       "    <tr>\n",
       "      <th>17</th>\n",
       "      <td>23526</td>\n",
       "      <td>Delivery and All Inpatient Services for Matern...</td>\n",
       "    </tr>\n",
       "    <tr>\n",
       "      <th>18</th>\n",
       "      <td>23526</td>\n",
       "      <td>Diabetes Education</td>\n",
       "    </tr>\n",
       "    <tr>\n",
       "      <th>19</th>\n",
       "      <td>23526</td>\n",
       "      <td>Dialysis</td>\n",
       "    </tr>\n",
       "    <tr>\n",
       "      <th>20</th>\n",
       "      <td>23526</td>\n",
       "      <td>Durable Medical Equipment</td>\n",
       "    </tr>\n",
       "    <tr>\n",
       "      <th>21</th>\n",
       "      <td>23526</td>\n",
       "      <td>Emergency Room Services</td>\n",
       "    </tr>\n",
       "    <tr>\n",
       "      <th>22</th>\n",
       "      <td>23526</td>\n",
       "      <td>Emergency Transportation/Ambulance</td>\n",
       "    </tr>\n",
       "    <tr>\n",
       "      <th>23</th>\n",
       "      <td>23526</td>\n",
       "      <td>Eye Glasses for Children</td>\n",
       "    </tr>\n",
       "    <tr>\n",
       "      <th>24</th>\n",
       "      <td>23526</td>\n",
       "      <td>Generic Drugs</td>\n",
       "    </tr>\n",
       "    <tr>\n",
       "      <th>25</th>\n",
       "      <td>23526</td>\n",
       "      <td>Habilitation Services</td>\n",
       "    </tr>\n",
       "    <tr>\n",
       "      <th>26</th>\n",
       "      <td>23526</td>\n",
       "      <td>Hearing Aids</td>\n",
       "    </tr>\n",
       "    <tr>\n",
       "      <th>27</th>\n",
       "      <td>23526</td>\n",
       "      <td>Home Health Care Services</td>\n",
       "    </tr>\n",
       "    <tr>\n",
       "      <th>28</th>\n",
       "      <td>23526</td>\n",
       "      <td>Hospice Services</td>\n",
       "    </tr>\n",
       "    <tr>\n",
       "      <th>29</th>\n",
       "      <td>23526</td>\n",
       "      <td>Imaging (CT/PET Scans, MRIs)</td>\n",
       "    </tr>\n",
       "    <tr>\n",
       "      <th>...</th>\n",
       "      <td>...</td>\n",
       "      <td>...</td>\n",
       "    </tr>\n",
       "    <tr>\n",
       "      <th>399</th>\n",
       "      <td>3</td>\n",
       "      <td>Posterior Composite Fillings - Adult</td>\n",
       "    </tr>\n",
       "    <tr>\n",
       "      <th>400</th>\n",
       "      <td>3</td>\n",
       "      <td>Root canal Therapy and Retreatment</td>\n",
       "    </tr>\n",
       "    <tr>\n",
       "      <th>401</th>\n",
       "      <td>2</td>\n",
       "      <td>Accidental Dental - Adult</td>\n",
       "    </tr>\n",
       "    <tr>\n",
       "      <th>402</th>\n",
       "      <td>2</td>\n",
       "      <td>Accidental Dental-Adult</td>\n",
       "    </tr>\n",
       "    <tr>\n",
       "      <th>403</th>\n",
       "      <td>2</td>\n",
       "      <td>Bloos and Blood Services</td>\n",
       "    </tr>\n",
       "    <tr>\n",
       "      <th>404</th>\n",
       "      <td>2</td>\n",
       "      <td>Complete and Partial Dentures</td>\n",
       "    </tr>\n",
       "    <tr>\n",
       "      <th>405</th>\n",
       "      <td>2</td>\n",
       "      <td>Cosmetic Orthodontics-Child</td>\n",
       "    </tr>\n",
       "    <tr>\n",
       "      <th>406</th>\n",
       "      <td>2</td>\n",
       "      <td>Dentures - Child</td>\n",
       "    </tr>\n",
       "    <tr>\n",
       "      <th>407</th>\n",
       "      <td>2</td>\n",
       "      <td>Endodontics</td>\n",
       "    </tr>\n",
       "    <tr>\n",
       "      <th>408</th>\n",
       "      <td>2</td>\n",
       "      <td>Fillings/Amalgam</td>\n",
       "    </tr>\n",
       "    <tr>\n",
       "      <th>409</th>\n",
       "      <td>2</td>\n",
       "      <td>Fluoride Treatments</td>\n",
       "    </tr>\n",
       "    <tr>\n",
       "      <th>410</th>\n",
       "      <td>2</td>\n",
       "      <td>Implant - Adult</td>\n",
       "    </tr>\n",
       "    <tr>\n",
       "      <th>411</th>\n",
       "      <td>2</td>\n",
       "      <td>Implant - Child</td>\n",
       "    </tr>\n",
       "    <tr>\n",
       "      <th>412</th>\n",
       "      <td>2</td>\n",
       "      <td>Intial Placement of Bridges and Dentures</td>\n",
       "    </tr>\n",
       "    <tr>\n",
       "      <th>413</th>\n",
       "      <td>2</td>\n",
       "      <td>Major Restorative Services</td>\n",
       "    </tr>\n",
       "    <tr>\n",
       "      <th>414</th>\n",
       "      <td>2</td>\n",
       "      <td>Peridontal Maintenance</td>\n",
       "    </tr>\n",
       "    <tr>\n",
       "      <th>415</th>\n",
       "      <td>2</td>\n",
       "      <td>Periraducular Surgical Procedures</td>\n",
       "    </tr>\n",
       "    <tr>\n",
       "      <th>416</th>\n",
       "      <td>2</td>\n",
       "      <td>Post and Core Build -up</td>\n",
       "    </tr>\n",
       "    <tr>\n",
       "      <th>417</th>\n",
       "      <td>2</td>\n",
       "      <td>Post and Core Build-Up</td>\n",
       "    </tr>\n",
       "    <tr>\n",
       "      <th>418</th>\n",
       "      <td>2</td>\n",
       "      <td>Posterior Composite Filling - Adult</td>\n",
       "    </tr>\n",
       "    <tr>\n",
       "      <th>419</th>\n",
       "      <td>2</td>\n",
       "      <td>Posterior Composite Filling - Child</td>\n",
       "    </tr>\n",
       "    <tr>\n",
       "      <th>420</th>\n",
       "      <td>2</td>\n",
       "      <td>Posterior Composite Fillings - Adults</td>\n",
       "    </tr>\n",
       "    <tr>\n",
       "      <th>421</th>\n",
       "      <td>2</td>\n",
       "      <td>Removal of Fxed Space Maintainers</td>\n",
       "    </tr>\n",
       "    <tr>\n",
       "      <th>422</th>\n",
       "      <td>2</td>\n",
       "      <td>Routine Exams and X-Rays - Child</td>\n",
       "    </tr>\n",
       "    <tr>\n",
       "      <th>423</th>\n",
       "      <td>2</td>\n",
       "      <td>Routine X-Rays</td>\n",
       "    </tr>\n",
       "    <tr>\n",
       "      <th>424</th>\n",
       "      <td>2</td>\n",
       "      <td>Simple Extractions</td>\n",
       "    </tr>\n",
       "    <tr>\n",
       "      <th>425</th>\n",
       "      <td>2</td>\n",
       "      <td>Surgical Extractions</td>\n",
       "    </tr>\n",
       "    <tr>\n",
       "      <th>426</th>\n",
       "      <td>2</td>\n",
       "      <td>Surgical Extractions - Child</td>\n",
       "    </tr>\n",
       "    <tr>\n",
       "      <th>427</th>\n",
       "      <td>2</td>\n",
       "      <td>Tisssue Conditioning</td>\n",
       "    </tr>\n",
       "    <tr>\n",
       "      <th>428</th>\n",
       "      <td>2</td>\n",
       "      <td>Topical Fluoride</td>\n",
       "    </tr>\n",
       "  </tbody>\n",
       "</table>\n",
       "<p>429 rows × 2 columns</p>\n",
       "</div>"
      ],
      "text/plain": [
       "     plans                                        BenefitName\n",
       "0    27381                                  Accidental Dental\n",
       "1    27381                          Basic Dental Care - Adult\n",
       "2    27381                          Basic Dental Care - Child\n",
       "3    27381                       Dental Check-Up for Children\n",
       "4    27381                          Major Dental Care - Adult\n",
       "5    27381                          Major Dental Care - Child\n",
       "6    27381                                Orthodontia - Adult\n",
       "7    27381                                Orthodontia - Child\n",
       "8    27381                    Routine Dental Services (Adult)\n",
       "9    23544    Treatment for Temporomandibular Joint Disorders\n",
       "10   23526    Abortion for Which Public Funding is Prohibited\n",
       "11   23526                                        Acupuncture\n",
       "12   23526                                    Allergy Testing\n",
       "13   23526                                  Bariatric Surgery\n",
       "14   23526                                       Chemotherapy\n",
       "15   23526                                  Chiropractic Care\n",
       "16   23526                                   Cosmetic Surgery\n",
       "17   23526  Delivery and All Inpatient Services for Matern...\n",
       "18   23526                                 Diabetes Education\n",
       "19   23526                                           Dialysis\n",
       "20   23526                          Durable Medical Equipment\n",
       "21   23526                            Emergency Room Services\n",
       "22   23526                 Emergency Transportation/Ambulance\n",
       "23   23526                           Eye Glasses for Children\n",
       "24   23526                                      Generic Drugs\n",
       "25   23526                              Habilitation Services\n",
       "26   23526                                       Hearing Aids\n",
       "27   23526                          Home Health Care Services\n",
       "28   23526                                   Hospice Services\n",
       "29   23526                       Imaging (CT/PET Scans, MRIs)\n",
       "..     ...                                                ...\n",
       "399      3               Posterior Composite Fillings - Adult\n",
       "400      3                 Root canal Therapy and Retreatment\n",
       "401      2                          Accidental Dental - Adult\n",
       "402      2                            Accidental Dental-Adult\n",
       "403      2                           Bloos and Blood Services\n",
       "404      2                      Complete and Partial Dentures\n",
       "405      2                        Cosmetic Orthodontics-Child\n",
       "406      2                                   Dentures - Child\n",
       "407      2                                        Endodontics\n",
       "408      2                                   Fillings/Amalgam\n",
       "409      2                                Fluoride Treatments\n",
       "410      2                                    Implant - Adult\n",
       "411      2                                    Implant - Child\n",
       "412      2           Intial Placement of Bridges and Dentures\n",
       "413      2                         Major Restorative Services\n",
       "414      2                             Peridontal Maintenance\n",
       "415      2                  Periraducular Surgical Procedures\n",
       "416      2                            Post and Core Build -up\n",
       "417      2                             Post and Core Build-Up\n",
       "418      2                Posterior Composite Filling - Adult\n",
       "419      2                Posterior Composite Filling - Child\n",
       "420      2              Posterior Composite Fillings - Adults\n",
       "421      2                  Removal of Fxed Space Maintainers\n",
       "422      2                   Routine Exams and X-Rays - Child\n",
       "423      2                                     Routine X-Rays\n",
       "424      2                                 Simple Extractions\n",
       "425      2                               Surgical Extractions\n",
       "426      2                       Surgical Extractions - Child\n",
       "427      2                               Tisssue Conditioning\n",
       "428      2                                   Topical Fluoride\n",
       "\n",
       "[429 rows x 2 columns]"
      ]
     },
     "execution_count": 37,
     "metadata": {},
     "output_type": "execute_result"
    }
   ],
   "source": [
    "res = pd.read_sql(\"\"\"select count(distinct(planid)) as plans, benefitname\n",
    "                      from benefitscostsharing\n",
    "                      where businessyear = 2016\n",
    "                      group by benefitname\n",
    "                      order by plans desc\"\"\", conn)\n",
    "res"
   ]
  },
  {
   "cell_type": "markdown",
   "metadata": {},
   "source": [
    "PlanIds across Rate, PlanAttributes and BenefitsCostSharing table are different in the extension '-xx'. For Joins, we will consider the substring without extension."
   ]
  },
  {
   "cell_type": "code",
   "execution_count": 38,
   "metadata": {},
   "outputs": [
    {
     "data": {
      "text/html": [
       "<div>\n",
       "<style scoped>\n",
       "    .dataframe tbody tr th:only-of-type {\n",
       "        vertical-align: middle;\n",
       "    }\n",
       "\n",
       "    .dataframe tbody tr th {\n",
       "        vertical-align: top;\n",
       "    }\n",
       "\n",
       "    .dataframe thead th {\n",
       "        text-align: right;\n",
       "    }\n",
       "</style>\n",
       "<table border=\"1\" class=\"dataframe\">\n",
       "  <thead>\n",
       "    <tr style=\"text-align: right;\">\n",
       "      <th></th>\n",
       "      <th>PlanId</th>\n",
       "    </tr>\n",
       "  </thead>\n",
       "  <tbody>\n",
       "    <tr>\n",
       "      <th>0</th>\n",
       "      <td>21989AK0010001</td>\n",
       "    </tr>\n",
       "    <tr>\n",
       "      <th>1</th>\n",
       "      <td>21989AK0020001</td>\n",
       "    </tr>\n",
       "    <tr>\n",
       "      <th>2</th>\n",
       "      <td>21989AK0020001</td>\n",
       "    </tr>\n",
       "    <tr>\n",
       "      <th>3</th>\n",
       "      <td>21989AK0010001</td>\n",
       "    </tr>\n",
       "    <tr>\n",
       "      <th>4</th>\n",
       "      <td>21989AK0010001</td>\n",
       "    </tr>\n",
       "  </tbody>\n",
       "</table>\n",
       "</div>"
      ],
      "text/plain": [
       "           PlanId\n",
       "0  21989AK0010001\n",
       "1  21989AK0020001\n",
       "2  21989AK0020001\n",
       "3  21989AK0010001\n",
       "4  21989AK0010001"
      ]
     },
     "execution_count": 38,
     "metadata": {},
     "output_type": "execute_result"
    }
   ],
   "source": [
    "res = pd.read_sql(\"\"\"SELECT PlanId FROM Rate LIMIT 5;\"\"\", conn)\n",
    "res"
   ]
  },
  {
   "cell_type": "code",
   "execution_count": 39,
   "metadata": {},
   "outputs": [
    {
     "data": {
      "text/html": [
       "<div>\n",
       "<style scoped>\n",
       "    .dataframe tbody tr th:only-of-type {\n",
       "        vertical-align: middle;\n",
       "    }\n",
       "\n",
       "    .dataframe tbody tr th {\n",
       "        vertical-align: top;\n",
       "    }\n",
       "\n",
       "    .dataframe thead th {\n",
       "        text-align: right;\n",
       "    }\n",
       "</style>\n",
       "<table border=\"1\" class=\"dataframe\">\n",
       "  <thead>\n",
       "    <tr style=\"text-align: right;\">\n",
       "      <th></th>\n",
       "      <th>PlanId</th>\n",
       "    </tr>\n",
       "  </thead>\n",
       "  <tbody>\n",
       "    <tr>\n",
       "      <th>0</th>\n",
       "      <td>21989AK0010001-00</td>\n",
       "    </tr>\n",
       "    <tr>\n",
       "      <th>1</th>\n",
       "      <td>21989AK0010001-00</td>\n",
       "    </tr>\n",
       "    <tr>\n",
       "      <th>2</th>\n",
       "      <td>21989AK0010001-00</td>\n",
       "    </tr>\n",
       "    <tr>\n",
       "      <th>3</th>\n",
       "      <td>21989AK0010001-00</td>\n",
       "    </tr>\n",
       "    <tr>\n",
       "      <th>4</th>\n",
       "      <td>21989AK0010001-00</td>\n",
       "    </tr>\n",
       "  </tbody>\n",
       "</table>\n",
       "</div>"
      ],
      "text/plain": [
       "              PlanId\n",
       "0  21989AK0010001-00\n",
       "1  21989AK0010001-00\n",
       "2  21989AK0010001-00\n",
       "3  21989AK0010001-00\n",
       "4  21989AK0010001-00"
      ]
     },
     "execution_count": 39,
     "metadata": {},
     "output_type": "execute_result"
    }
   ],
   "source": [
    "res = pd.read_sql(\"\"\"SELECT PlanId FROM BenefitsCostSharing LIMIT 5;\"\"\", conn)\n",
    "res"
   ]
  },
  {
   "cell_type": "code",
   "execution_count": 40,
   "metadata": {},
   "outputs": [
    {
     "data": {
      "text/html": [
       "<div>\n",
       "<style scoped>\n",
       "    .dataframe tbody tr th:only-of-type {\n",
       "        vertical-align: middle;\n",
       "    }\n",
       "\n",
       "    .dataframe tbody tr th {\n",
       "        vertical-align: top;\n",
       "    }\n",
       "\n",
       "    .dataframe thead th {\n",
       "        text-align: right;\n",
       "    }\n",
       "</style>\n",
       "<table border=\"1\" class=\"dataframe\">\n",
       "  <thead>\n",
       "    <tr style=\"text-align: right;\">\n",
       "      <th></th>\n",
       "      <th>PlanId</th>\n",
       "    </tr>\n",
       "  </thead>\n",
       "  <tbody>\n",
       "    <tr>\n",
       "      <th>0</th>\n",
       "      <td>21989AK0020002-01</td>\n",
       "    </tr>\n",
       "    <tr>\n",
       "      <th>1</th>\n",
       "      <td>21989AK0020001-00</td>\n",
       "    </tr>\n",
       "    <tr>\n",
       "      <th>2</th>\n",
       "      <td>21989AK0010001-00</td>\n",
       "    </tr>\n",
       "    <tr>\n",
       "      <th>3</th>\n",
       "      <td>21989AK0010001-01</td>\n",
       "    </tr>\n",
       "    <tr>\n",
       "      <th>4</th>\n",
       "      <td>21989AK0020001-01</td>\n",
       "    </tr>\n",
       "  </tbody>\n",
       "</table>\n",
       "</div>"
      ],
      "text/plain": [
       "              PlanId\n",
       "0  21989AK0020002-01\n",
       "1  21989AK0020001-00\n",
       "2  21989AK0010001-00\n",
       "3  21989AK0010001-01\n",
       "4  21989AK0020001-01"
      ]
     },
     "execution_count": 40,
     "metadata": {},
     "output_type": "execute_result"
    }
   ],
   "source": [
    "res = pd.read_sql(\"\"\"SELECT PlanId FROM PlanAttributes LIMIT 5;\"\"\", conn)\n",
    "res"
   ]
  },
  {
   "cell_type": "markdown",
   "metadata": {},
   "source": [
    "Analyzing the dental plan statistics for year 2016:"
   ]
  },
  {
   "cell_type": "code",
   "execution_count": 8,
   "metadata": {},
   "outputs": [
    {
     "data": {
      "text/plain": [
       "<matplotlib.axes._subplots.AxesSubplot at 0x17d8ee0e828>"
      ]
     },
     "execution_count": 8,
     "metadata": {},
     "output_type": "execute_result"
    },
    {
     "data": {
      "image/png": "[encoded data removed]",
      "text/plain": [
       "<Figure size 1440x360 with 1 Axes>"
      ]
     },
     "metadata": {
      "needs_background": "light"
     },
     "output_type": "display_data"
    }
   ],
   "source": [
    "res = pd.read_sql(\"\"\"select rate.statecode, avg(rate.individualrate) as dental_rate\n",
    "                            from rate\n",
    "                            inner join planattributes on rate.planid=substr(planattributes.planid, 1,14)\n",
    "                            where planattributes.dentalonlyplan='Yes' and rate.individualrate !=999999 \n",
    "                            group by rate.statecode\n",
    "                            order by rate.statecode;\"\"\", conn)\n",
    "fig, ax=plt.subplots(figsize=[20, 5])\n",
    "sns.barplot(x='StateCode', y='dental_rate', data=res)"
   ]
  },
  {
   "cell_type": "markdown",
   "metadata": {},
   "source": [
    "Age vs. rate analysis over all the plans:"
   ]
  },
  {
   "cell_type": "code",
   "execution_count": 10,
   "metadata": {},
   "outputs": [
    {
     "data": {
      "text/plain": [
       "<matplotlib.axes._subplots.AxesSubplot at 0x17d8ef8fbe0>"
      ]
     },
     "execution_count": 10,
     "metadata": {},
     "output_type": "execute_result"
    },
    {
     "data": {
      "image/png": "[encoded data removed]",
      "text/plain": [
       "<Figure size 1440x360 with 1 Axes>"
      ]
     },
     "metadata": {
      "needs_background": "light"
     },
     "output_type": "display_data"
    }
   ],
   "source": [
    "res = pd.read_sql(\"\"\"select avg(individualrate) as rate, age\n",
    "                        from rate\n",
    "                        where individualrate !=999999\n",
    "                        and businessyear = 2016\n",
    "                        group by age; \"\"\", conn)\n",
    "\n",
    "fig, ax=plt.subplots(figsize=[20, 5])\n",
    "sns.barplot(x='Age', y='rate', data=res)"
   ]
  },
  {
   "cell_type": "markdown",
   "metadata": {},
   "source": [
    "Age seems to positively impact the spike in the rates associated except for the family option which has lower rate than for individuals. It is expected as the family plan tends to cover more than 1 individual and thus the rate is divided among the co-payers."
   ]
  },
  {
   "cell_type": "markdown",
   "metadata": {},
   "source": [
    "#### Analyzing utility of MOOP in Plan Attributes"
   ]
  },
  {
   "cell_type": "code",
   "execution_count": 13,
   "metadata": {},
   "outputs": [],
   "source": [
    "df = pd.read_excel(\"C:/Users/gauri/Downloads/Plan_Attributes_PUF.xlsx\",encoding = 'utf-8')"
   ]
  },
  {
   "cell_type": "code",
   "execution_count": 14,
   "metadata": {},
   "outputs": [
    {
     "data": {
      "text/html": [
       "<div>\n",
       "<style scoped>\n",
       "    .dataframe tbody tr th:only-of-type {\n",
       "        vertical-align: middle;\n",
       "    }\n",
       "\n",
       "    .dataframe tbody tr th {\n",
       "        vertical-align: top;\n",
       "    }\n",
       "\n",
       "    .dataframe thead th {\n",
       "        text-align: right;\n",
       "    }\n",
       "</style>\n",
       "<table border=\"1\" class=\"dataframe\">\n",
       "  <thead>\n",
       "    <tr style=\"text-align: right;\">\n",
       "      <th></th>\n",
       "      <th>BusinessYear</th>\n",
       "      <th>StateCode</th>\n",
       "      <th>IssuerId</th>\n",
       "      <th>SourceName</th>\n",
       "      <th>ImportDate</th>\n",
       "      <th>MarketCoverage</th>\n",
       "      <th>DentalOnlyPlan</th>\n",
       "      <th>TIN</th>\n",
       "      <th>StandardComponentId</th>\n",
       "      <th>PlanMarketingName</th>\n",
       "      <th>...</th>\n",
       "      <th>TEHBDedOutOfNetFamilyPerPerson</th>\n",
       "      <th>TEHBDedOutOfNetFamilyPerGroup</th>\n",
       "      <th>TEHBDedCombInnOonIndividual</th>\n",
       "      <th>TEHBDedCombInnOonFamilyPerPerson</th>\n",
       "      <th>TEHBDedCombInnOonFamilyPerGroup</th>\n",
       "      <th>IsHSAEligible</th>\n",
       "      <th>HSAOrHRAEmployerContribution</th>\n",
       "      <th>HSAOrHRAEmployerContributionAmount</th>\n",
       "      <th>URLForSummaryofBenefitsCoverage</th>\n",
       "      <th>PlanBrochure</th>\n",
       "    </tr>\n",
       "  </thead>\n",
       "  <tbody>\n",
       "    <tr>\n",
       "      <th>0</th>\n",
       "      <td>2019</td>\n",
       "      <td>AK</td>\n",
       "      <td>38344</td>\n",
       "      <td>HIOS</td>\n",
       "      <td>2019-07-19 03:51:00</td>\n",
       "      <td>Individual</td>\n",
       "      <td>No</td>\n",
       "      <td>91-0499247</td>\n",
       "      <td>38344AK1060002</td>\n",
       "      <td>Premera Blue Cross Preferred Silver 4500</td>\n",
       "      <td>...</td>\n",
       "      <td>$0 per person</td>\n",
       "      <td>$0 per group</td>\n",
       "      <td>0</td>\n",
       "      <td>$0 per person</td>\n",
       "      <td>$0 per group</td>\n",
       "      <td>No</td>\n",
       "      <td>NaN</td>\n",
       "      <td>NaN</td>\n",
       "      <td>https://www.premera.com/documents/045636_2019.pdf</td>\n",
       "      <td>https://www.premera.com/documents/031040_2019.pdf</td>\n",
       "    </tr>\n",
       "    <tr>\n",
       "      <th>1</th>\n",
       "      <td>2019</td>\n",
       "      <td>AK</td>\n",
       "      <td>21989</td>\n",
       "      <td>HIOS</td>\n",
       "      <td>2018-10-16 03:20:00</td>\n",
       "      <td>SHOP (Small Group)</td>\n",
       "      <td>Yes</td>\n",
       "      <td>93-0438772</td>\n",
       "      <td>21989AK0130001</td>\n",
       "      <td>Delta Dental Premier, +2000, 100*/80/50, 50, PF</td>\n",
       "      <td>...</td>\n",
       "      <td>NaN</td>\n",
       "      <td>NaN</td>\n",
       "      <td>NaN</td>\n",
       "      <td>NaN</td>\n",
       "      <td>NaN</td>\n",
       "      <td>NaN</td>\n",
       "      <td>NaN</td>\n",
       "      <td>NaN</td>\n",
       "      <td>NaN</td>\n",
       "      <td>https://www.modahealth.com/pdfs/ben_sum/AK/190...</td>\n",
       "    </tr>\n",
       "    <tr>\n",
       "      <th>2</th>\n",
       "      <td>2019</td>\n",
       "      <td>AK</td>\n",
       "      <td>21989</td>\n",
       "      <td>HIOS</td>\n",
       "      <td>2018-10-16 03:20:00</td>\n",
       "      <td>Individual</td>\n",
       "      <td>Yes</td>\n",
       "      <td>93-0438772</td>\n",
       "      <td>21989AK0030001</td>\n",
       "      <td>Delta Dental Premier Plan</td>\n",
       "      <td>...</td>\n",
       "      <td>NaN</td>\n",
       "      <td>NaN</td>\n",
       "      <td>NaN</td>\n",
       "      <td>NaN</td>\n",
       "      <td>NaN</td>\n",
       "      <td>NaN</td>\n",
       "      <td>NaN</td>\n",
       "      <td>NaN</td>\n",
       "      <td>NaN</td>\n",
       "      <td>https://www.modahealth.com/pdfs/plans/individu...</td>\n",
       "    </tr>\n",
       "    <tr>\n",
       "      <th>3</th>\n",
       "      <td>2019</td>\n",
       "      <td>AK</td>\n",
       "      <td>21989</td>\n",
       "      <td>HIOS</td>\n",
       "      <td>2018-10-16 03:20:00</td>\n",
       "      <td>Individual</td>\n",
       "      <td>Yes</td>\n",
       "      <td>93-0438772</td>\n",
       "      <td>21989AK0030001</td>\n",
       "      <td>Delta Dental Premier Plan</td>\n",
       "      <td>...</td>\n",
       "      <td>NaN</td>\n",
       "      <td>NaN</td>\n",
       "      <td>NaN</td>\n",
       "      <td>NaN</td>\n",
       "      <td>NaN</td>\n",
       "      <td>NaN</td>\n",
       "      <td>NaN</td>\n",
       "      <td>NaN</td>\n",
       "      <td>NaN</td>\n",
       "      <td>https://www.modahealth.com/pdfs/plans/individu...</td>\n",
       "    </tr>\n",
       "    <tr>\n",
       "      <th>4</th>\n",
       "      <td>2019</td>\n",
       "      <td>AK</td>\n",
       "      <td>21989</td>\n",
       "      <td>HIOS</td>\n",
       "      <td>2018-10-16 03:20:00</td>\n",
       "      <td>SHOP (Small Group)</td>\n",
       "      <td>Yes</td>\n",
       "      <td>93-0438772</td>\n",
       "      <td>21989AK0130002</td>\n",
       "      <td>Delta Dental Premier, +2500, 100*/80/50, 50, PF</td>\n",
       "      <td>...</td>\n",
       "      <td>NaN</td>\n",
       "      <td>NaN</td>\n",
       "      <td>NaN</td>\n",
       "      <td>NaN</td>\n",
       "      <td>NaN</td>\n",
       "      <td>NaN</td>\n",
       "      <td>NaN</td>\n",
       "      <td>NaN</td>\n",
       "      <td>NaN</td>\n",
       "      <td>https://www.modahealth.com/pdfs/ben_sum/AK/190...</td>\n",
       "    </tr>\n",
       "  </tbody>\n",
       "</table>\n",
       "<p>5 rows × 152 columns</p>\n",
       "</div>"
      ],
      "text/plain": [
       "   BusinessYear StateCode  IssuerId SourceName          ImportDate  \\\n",
       "0          2019        AK     38344       HIOS 2019-07-19 03:51:00   \n",
       "1          2019        AK     21989       HIOS 2018-10-16 03:20:00   \n",
       "2          2019        AK     21989       HIOS 2018-10-16 03:20:00   \n",
       "3          2019        AK     21989       HIOS 2018-10-16 03:20:00   \n",
       "4          2019        AK     21989       HIOS 2018-10-16 03:20:00   \n",
       "\n",
       "       MarketCoverage DentalOnlyPlan         TIN StandardComponentId  \\\n",
       "0          Individual             No  91-0499247      38344AK1060002   \n",
       "1  SHOP (Small Group)            Yes  93-0438772      21989AK0130001   \n",
       "2          Individual            Yes  93-0438772      21989AK0030001   \n",
       "3          Individual            Yes  93-0438772      21989AK0030001   \n",
       "4  SHOP (Small Group)            Yes  93-0438772      21989AK0130002   \n",
       "\n",
       "                                 PlanMarketingName  ...  \\\n",
       "0         Premera Blue Cross Preferred Silver 4500  ...   \n",
       "1  Delta Dental Premier, +2000, 100*/80/50, 50, PF  ...   \n",
       "2                        Delta Dental Premier Plan  ...   \n",
       "3                        Delta Dental Premier Plan  ...   \n",
       "4  Delta Dental Premier, +2500, 100*/80/50, 50, PF  ...   \n",
       "\n",
       "  TEHBDedOutOfNetFamilyPerPerson  TEHBDedOutOfNetFamilyPerGroup  \\\n",
       "0                  $0 per person                   $0 per group   \n",
       "1                            NaN                            NaN   \n",
       "2                            NaN                            NaN   \n",
       "3                            NaN                            NaN   \n",
       "4                            NaN                            NaN   \n",
       "\n",
       "  TEHBDedCombInnOonIndividual TEHBDedCombInnOonFamilyPerPerson  \\\n",
       "0                           0                    $0 per person   \n",
       "1                         NaN                              NaN   \n",
       "2                         NaN                              NaN   \n",
       "3                         NaN                              NaN   \n",
       "4                         NaN                              NaN   \n",
       "\n",
       "  TEHBDedCombInnOonFamilyPerGroup IsHSAEligible HSAOrHRAEmployerContribution  \\\n",
       "0                    $0 per group            No                          NaN   \n",
       "1                             NaN           NaN                          NaN   \n",
       "2                             NaN           NaN                          NaN   \n",
       "3                             NaN           NaN                          NaN   \n",
       "4                             NaN           NaN                          NaN   \n",
       "\n",
       "  HSAOrHRAEmployerContributionAmount  \\\n",
       "0                                NaN   \n",
       "1                                NaN   \n",
       "2                                NaN   \n",
       "3                                NaN   \n",
       "4                                NaN   \n",
       "\n",
       "                     URLForSummaryofBenefitsCoverage  \\\n",
       "0  https://www.premera.com/documents/045636_2019.pdf   \n",
       "1                                                NaN   \n",
       "2                                                NaN   \n",
       "3                                                NaN   \n",
       "4                                                NaN   \n",
       "\n",
       "                                        PlanBrochure  \n",
       "0  https://www.premera.com/documents/031040_2019.pdf  \n",
       "1  https://www.modahealth.com/pdfs/ben_sum/AK/190...  \n",
       "2  https://www.modahealth.com/pdfs/plans/individu...  \n",
       "3  https://www.modahealth.com/pdfs/plans/individu...  \n",
       "4  https://www.modahealth.com/pdfs/ben_sum/AK/190...  \n",
       "\n",
       "[5 rows x 152 columns]"
      ]
     },
     "execution_count": 14,
     "metadata": {},
     "output_type": "execute_result"
    }
   ],
   "source": [
    "df.head(5)"
   ]
  },
  {
   "cell_type": "code",
   "execution_count": 15,
   "metadata": {},
   "outputs": [
    {
     "data": {
      "text/plain": [
       "BusinessYear                                                        0\n",
       "StateCode                                                           0\n",
       "IssuerId                                                            0\n",
       "SourceName                                                          0\n",
       "ImportDate                                                          0\n",
       "MarketCoverage                                                      0\n",
       "DentalOnlyPlan                                                      0\n",
       "TIN                                                                 0\n",
       "StandardComponentId                                                 0\n",
       "PlanMarketingName                                                   0\n",
       "HIOSProductId                                                       0\n",
       "HPID                                                            12853\n",
       "NetworkId                                                           0\n",
       "ServiceAreaId                                                       0\n",
       "FormularyId                                                      2077\n",
       "IsNewPlan                                                           0\n",
       "PlanType                                                            0\n",
       "MetalLevel                                                          0\n",
       "DesignType                                                          0\n",
       "UniquePlanDesign                                                 2033\n",
       "QHPNonQHPTypeId                                                     0\n",
       "IsNoticeRequiredForPregnancy                                     2077\n",
       "IsReferralRequiredForSpecialist                                  2077\n",
       "SpecialistRequiringReferral                                     11837\n",
       "PlanLevelExclusions                                             13464\n",
       "IndianPlanVariationEstimatedAdvancedPaymentAmountPerEnrollee     2633\n",
       "CompositeRatingOffered                                              0\n",
       "ChildOnlyOffering                                                   0\n",
       "ChildOnlyPlanId                                                 15690\n",
       "WellnessProgramOffered                                           2077\n",
       "                                                                ...  \n",
       "DEHBDedInnTier1Coinsurance                                      11998\n",
       "DEHBDedInnTier2Individual                                       15357\n",
       "DEHBDedInnTier2FamilyPerPerson                                  15357\n",
       "DEHBDedInnTier2FamilyPerGroup                                   15357\n",
       "DEHBDedInnTier2Coinsurance                                      15357\n",
       "DEHBDedOutOfNetIndividual                                       11998\n",
       "DEHBDedOutOfNetFamilyPerPerson                                  11998\n",
       "DEHBDedOutOfNetFamilyPerGroup                                   11998\n",
       "DEHBDedCombInnOonIndividual                                     11998\n",
       "DEHBDedCombInnOonFamilyPerPerson                                11998\n",
       "DEHBDedCombInnOonFamilyPerGroup                                 11998\n",
       "TEHBDedInnTier1Individual                                        5752\n",
       "TEHBDedInnTier1FamilyPerPerson                                   5752\n",
       "TEHBDedInnTier1FamilyPerGroup                                    5752\n",
       "TEHBDedInnTier1Coinsurance                                       5752\n",
       "TEHBDedInnTier2Individual                                       13184\n",
       "TEHBDedInnTier2FamilyPerPerson                                  13184\n",
       "TEHBDedInnTier2FamilyPerGroup                                   13184\n",
       "TEHBDedInnTier2Coinsurance                                      13184\n",
       "TEHBDedOutOfNetIndividual                                        5752\n",
       "TEHBDedOutOfNetFamilyPerPerson                                   5752\n",
       "TEHBDedOutOfNetFamilyPerGroup                                    5752\n",
       "TEHBDedCombInnOonIndividual                                      5752\n",
       "TEHBDedCombInnOonFamilyPerPerson                                 5752\n",
       "TEHBDedCombInnOonFamilyPerGroup                                  5752\n",
       "IsHSAEligible                                                    2077\n",
       "HSAOrHRAEmployerContribution                                    15132\n",
       "HSAOrHRAEmployerContributionAmount                              15684\n",
       "URLForSummaryofBenefitsCoverage                                  1283\n",
       "PlanBrochure                                                     1854\n",
       "Length: 152, dtype: int64"
      ]
     },
     "execution_count": 15,
     "metadata": {},
     "output_type": "execute_result"
    }
   ],
   "source": [
    "# Checking for NAs\n",
    "df.isna().sum()"
   ]
  },
  {
   "cell_type": "code",
   "execution_count": 62,
   "metadata": {},
   "outputs": [
    {
     "data": {
      "text/plain": [
       "<matplotlib.axes._subplots.AxesSubplot at 0x1ffdc782240>"
      ]
     },
     "execution_count": 62,
     "metadata": {},
     "output_type": "execute_result"
    },
    {
     "data": {
      "image/png": "[encoded data removed]",
      "text/plain": [
       "<Figure size 432x288 with 1 Axes>"
      ]
     },
     "metadata": {
      "needs_background": "light"
     },
     "output_type": "display_data"
    }
   ],
   "source": [
    "res = df.groupby([\"MEHBOutOfNetIndividualMOOP\"],as_index=False).count()\n",
    "labels = list(res.MEHBOutOfNetIndividualMOOP)\n",
    "counts = list(res.PlanId)\n",
    "sns.barplot(x=labels,y=counts)"
   ]
  },
  {
   "cell_type": "code",
   "execution_count": 57,
   "metadata": {},
   "outputs": [
    {
     "data": {
      "text/plain": [
       "<matplotlib.axes._subplots.AxesSubplot at 0x1ffd68ed400>"
      ]
     },
     "execution_count": 57,
     "metadata": {},
     "output_type": "execute_result"
    },
    {
     "data": {
      "image/png": "[encoded data removed]",
      "text/plain": [
       "<Figure size 432x288 with 1 Axes>"
      ]
     },
     "metadata": {
      "needs_background": "light"
     },
     "output_type": "display_data"
    }
   ],
   "source": [
    "res = df.groupby([\"MEHBCombInnOonIndividualMOOP\"],as_index=False).count()\n",
    "labels = list(res.MEHBCombInnOonIndividualMOOP)\n",
    "counts = list(res.PlanId)\n",
    "sns.barplot(x=labels,y=counts,col)"
   ]
  },
  {
   "cell_type": "code",
   "execution_count": 61,
   "metadata": {},
   "outputs": [
    {
     "data": {
      "text/plain": [
       "<matplotlib.axes._subplots.AxesSubplot at 0x1ffde411128>"
      ]
     },
     "execution_count": 61,
     "metadata": {},
     "output_type": "execute_result"
    },
    {
     "data": {
      "image/png": "[encoded data removed]",
      "text/plain": [
       "<Figure size 432x288 with 1 Axes>"
      ]
     },
     "metadata": {
      "needs_background": "light"
     },
     "output_type": "display_data"
    }
   ],
   "source": [
    "res = df.groupby([\"DEHBCombInnOonIndividualMOOP\"],as_index=False).count()\n",
    "labels = list(res.DEHBCombInnOonIndividualMOOP)\n",
    "counts = list(res.PlanId)\n",
    "sns.barplot(x=labels,y=counts)"
   ]
  },
  {
   "cell_type": "code",
   "execution_count": 63,
   "metadata": {},
   "outputs": [
    {
     "data": {
      "text/plain": [
       "<matplotlib.axes._subplots.AxesSubplot at 0x1ffde47c208>"
      ]
     },
     "execution_count": 63,
     "metadata": {},
     "output_type": "execute_result"
    },
    {
     "data": {
      "image/png": "[encoded data removed]",
      "text/plain": [
       "<Figure size 432x288 with 1 Axes>"
      ]
     },
     "metadata": {
      "needs_background": "light"
     },
     "output_type": "display_data"
    }
   ],
   "source": [
    "res = df.groupby([\"DEHBOutOfNetIndividualMOOP\"],as_index=False).count()\n",
    "labels = list(res.DEHBOutOfNetIndividualMOOP)\n",
    "counts = list(res.PlanId)\n",
    "sns.barplot(x=labels,y=counts)"
   ]
  },
  {
   "cell_type": "code",
   "execution_count": 67,
   "metadata": {},
   "outputs": [
    {
     "data": {
      "text/plain": [
       "array([   0.,   nan, 6000., 1850., 7900., 7350., 7500., 5850.,  700.,\n",
       "       7800., 6700., 6600., 3800., 1400.,  500., 6750., 5000., 4000.,\n",
       "       6300., 1750.,  900., 6450., 7150., 2000., 2300., 1900., 6650.,\n",
       "       6100., 2600., 1300., 1450., 2200.,  800., 1500., 5500., 6500.,\n",
       "        600., 2500., 5750., 6550., 2550., 7050., 5325., 1000., 1675.,\n",
       "        950., 7000., 2350., 1250., 3500., 6350., 1075., 5100.,  575.,\n",
       "       5350., 1950.,  675., 7450., 4700., 7300., 1600., 3000., 4550.,\n",
       "       5700., 3050.,  525.,  650., 7700., 1700.,  750., 2450., 5600.,\n",
       "       6250., 4500., 4900., 5900., 4800., 2250., 7250., 7750., 2100.,\n",
       "       7100., 1200., 5200., 7850., 1350., 2150.,  850., 6050., 3950.,\n",
       "       6800., 1650., 4850., 4600., 7600., 6200., 2400., 1800., 7200.,\n",
       "       1050., 1550., 5450., 4300., 3400.,  450., 6850., 5400., 3750.,\n",
       "       7400., 2475., 5250., 3375., 1150.,  425., 4250., 2700., 3850.,\n",
       "       3900., 3200., 1100.,  875., 7650., 4150.,  725., 1920., 5800.,\n",
       "       5150., 4950.,  775.,  550., 4400.,  975., 5300., 6235., 6400.,\n",
       "       4750., 5050., 4200.])"
      ]
     },
     "execution_count": 67,
     "metadata": {},
     "output_type": "execute_result"
    }
   ],
   "source": [
    "df.TEHBInnTier1IndividualMOOP.unique()"
   ]
  },
  {
   "cell_type": "markdown",
   "metadata": {},
   "source": [
    "I considered MOOP as a useful criteria for Qualitative Analysis of plans but the columns for both MEHB (Medical EHB) and DEHB (Dental EHB) MOOPs are flooded with NaNs/ Not Applicable. However, interestingly, it is not NaNs for Total EHB MOOP columns."
   ]
  },
  {
   "cell_type": "code",
   "execution_count": null,
   "metadata": {},
   "outputs": [],
   "source": []
  }
 ],
 "metadata": {
  "kernelspec": {
   "display_name": "Python 3",
   "language": "python",
   "name": "python3"
  },
  "language_info": {
   "codemirror_mode": {
    "name": "ipython",
    "version": 3
   },
   "file_extension": ".py",
   "mimetype": "text/x-python",
   "name": "python",
   "nbconvert_exporter": "python",
   "pygments_lexer": "ipython3",
   "version": "3.7.3"
  }
 },
 "nbformat": 4,
 "nbformat_minor": 2
}
